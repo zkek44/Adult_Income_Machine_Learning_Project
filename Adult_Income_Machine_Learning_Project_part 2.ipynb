{
 "cells": [
  {
   "cell_type": "markdown",
   "metadata": {},
   "source": [
    "# Logistic Regression"
   ]
  },
  {
   "cell_type": "markdown",
   "metadata": {},
   "source": [
    "### Get Data"
   ]
  },
  {
   "cell_type": "code",
   "execution_count": 1,
   "metadata": {},
   "outputs": [
    {
     "name": "stderr",
     "output_type": "stream",
     "text": [
      "Warning message:\n",
      "\"package 'caTools' was built under R version 3.6.3\"Warning message:\n",
      "\"package 'pROC' was built under R version 3.6.3\"Type 'citation(\"pROC\")' for a citation.\n",
      "\n",
      "Attaching package: 'pROC'\n",
      "\n",
      "The following objects are masked from 'package:stats':\n",
      "\n",
      "    cov, smooth, var\n",
      "\n",
      "Warning message:\n",
      "\"package 'glmnet' was built under R version 3.6.3\"Loading required package: Matrix\n",
      "Warning message:\n",
      "\"package 'Matrix' was built under R version 3.6.3\"Loaded glmnet 4.1-1\n"
     ]
    },
    {
     "data": {
      "text/html": [
       "<ol class=list-inline>\n",
       "\t<li>48842</li>\n",
       "\t<li>15</li>\n",
       "</ol>\n"
      ],
      "text/latex": [
       "\\begin{enumerate*}\n",
       "\\item 48842\n",
       "\\item 15\n",
       "\\end{enumerate*}\n"
      ],
      "text/markdown": [
       "1. 48842\n",
       "2. 15\n",
       "\n",
       "\n"
      ],
      "text/plain": [
       "[1] 48842    15"
      ]
     },
     "metadata": {},
     "output_type": "display_data"
    }
   ],
   "source": [
    "library(caTools)\n",
    "library(pROC)\n",
    "library(glmnet)\n",
    "\n",
    "adult <- read.csv(file = \"adult.csv\", stringsAsFactors = FALSE)\n",
    "dim(adult)"
   ]
  },
  {
   "cell_type": "code",
   "execution_count": 2,
   "metadata": {
    "scrolled": true
   },
   "outputs": [
    {
     "data": {
      "text/html": [
       "<table>\n",
       "<thead><tr><th scope=col>age</th><th scope=col>workclass</th><th scope=col>fnlwgt</th><th scope=col>education</th><th scope=col>educational.num</th><th scope=col>marital.status</th><th scope=col>occupation</th><th scope=col>relationship</th><th scope=col>race</th><th scope=col>gender</th><th scope=col>capital.gain</th><th scope=col>capital.loss</th><th scope=col>hours.per.week</th><th scope=col>native.country</th><th scope=col>income</th></tr></thead>\n",
       "<tbody>\n",
       "\t<tr><td>25                                                        </td><td><span style=white-space:pre-wrap>Private  </span>         </td><td>226802                                                    </td><td><span style=white-space:pre-wrap>11th        </span>      </td><td> 7                                                        </td><td><span style=white-space:pre-wrap>Never-married     </span></td><td>Machine-op-inspct                                         </td><td><span style=white-space:pre-wrap>Own-child    </span>     </td><td>Black                                                     </td><td><span style=white-space:pre-wrap>Male  </span>            </td><td><span style=white-space:pre-wrap>   0</span>              </td><td>0                                                         </td><td>40                                                        </td><td>United-States                                             </td><td>&lt;=50K                                                  </td></tr>\n",
       "\t<tr><td>38                                                       </td><td><span style=white-space:pre-wrap>Private  </span>        </td><td> 89814                                                   </td><td><span style=white-space:pre-wrap>HS-grad     </span>     </td><td> 9                                                       </td><td>Married-civ-spouse                                       </td><td><span style=white-space:pre-wrap>Farming-fishing  </span></td><td><span style=white-space:pre-wrap>Husband      </span>    </td><td>White                                                    </td><td><span style=white-space:pre-wrap>Male  </span>           </td><td><span style=white-space:pre-wrap>   0</span>             </td><td>0                                                        </td><td>50                                                       </td><td>United-States                                            </td><td>&lt;=50K                                                 </td></tr>\n",
       "\t<tr><td>28                                                       </td><td>Local-gov                                                </td><td>336951                                                   </td><td><span style=white-space:pre-wrap>Assoc-acdm  </span>     </td><td>12                                                       </td><td>Married-civ-spouse                                       </td><td><span style=white-space:pre-wrap>Protective-serv  </span></td><td><span style=white-space:pre-wrap>Husband      </span>    </td><td>White                                                    </td><td><span style=white-space:pre-wrap>Male  </span>           </td><td><span style=white-space:pre-wrap>   0</span>             </td><td>0                                                        </td><td>40                                                       </td><td>United-States                                            </td><td>&gt;50K                                                  </td></tr>\n",
       "\t<tr><td>44                                                   </td><td><span style=white-space:pre-wrap>Private  </span>    </td><td>160323                                               </td><td>Some-college                                         </td><td>10                                                   </td><td>Married-civ-spouse                                   </td><td>Machine-op-inspct                                    </td><td><span style=white-space:pre-wrap>Husband      </span></td><td>Black                                                </td><td><span style=white-space:pre-wrap>Male  </span>       </td><td>7688                                                 </td><td>0                                                    </td><td>40                                                   </td><td>United-States                                        </td><td>&gt;50K                                              </td></tr>\n",
       "\t<tr><td>18                                                        </td><td><span style=white-space:pre-wrap>?        </span>         </td><td>103497                                                    </td><td>Some-college                                              </td><td>10                                                        </td><td><span style=white-space:pre-wrap>Never-married     </span></td><td><span style=white-space:pre-wrap>?                </span> </td><td><span style=white-space:pre-wrap>Own-child    </span>     </td><td>White                                                     </td><td>Female                                                    </td><td><span style=white-space:pre-wrap>   0</span>              </td><td>0                                                         </td><td>30                                                        </td><td>United-States                                             </td><td>&lt;=50K                                                  </td></tr>\n",
       "\t<tr><td>34                                                        </td><td><span style=white-space:pre-wrap>Private  </span>         </td><td>198693                                                    </td><td><span style=white-space:pre-wrap>10th        </span>      </td><td> 6                                                        </td><td><span style=white-space:pre-wrap>Never-married     </span></td><td><span style=white-space:pre-wrap>Other-service    </span> </td><td>Not-in-family                                             </td><td>White                                                     </td><td><span style=white-space:pre-wrap>Male  </span>            </td><td><span style=white-space:pre-wrap>   0</span>              </td><td>0                                                         </td><td>30                                                        </td><td>United-States                                             </td><td>&lt;=50K                                                  </td></tr>\n",
       "</tbody>\n",
       "</table>\n"
      ],
      "text/latex": [
       "\\begin{tabular}{r|lllllllllllllll}\n",
       " age & workclass & fnlwgt & education & educational.num & marital.status & occupation & relationship & race & gender & capital.gain & capital.loss & hours.per.week & native.country & income\\\\\n",
       "\\hline\n",
       "\t 25                 & Private            & 226802             & 11th               &  7                 & Never-married      & Machine-op-inspct  & Own-child          & Black              & Male               &    0               & 0                  & 40                 & United-States      & <=50K             \\\\\n",
       "\t 38                 & Private            &  89814             & HS-grad            &  9                 & Married-civ-spouse & Farming-fishing    & Husband            & White              & Male               &    0               & 0                  & 50                 & United-States      & <=50K             \\\\\n",
       "\t 28                 & Local-gov          & 336951             & Assoc-acdm         & 12                 & Married-civ-spouse & Protective-serv    & Husband            & White              & Male               &    0               & 0                  & 40                 & United-States      & >50K              \\\\\n",
       "\t 44                 & Private            & 160323             & Some-college       & 10                 & Married-civ-spouse & Machine-op-inspct  & Husband            & Black              & Male               & 7688               & 0                  & 40                 & United-States      & >50K              \\\\\n",
       "\t 18                 & ?                  & 103497             & Some-college       & 10                 & Never-married      & ?                  & Own-child          & White              & Female             &    0               & 0                  & 30                 & United-States      & <=50K             \\\\\n",
       "\t 34                 & Private            & 198693             & 10th               &  6                 & Never-married      & Other-service      & Not-in-family      & White              & Male               &    0               & 0                  & 30                 & United-States      & <=50K             \\\\\n",
       "\\end{tabular}\n"
      ],
      "text/markdown": [
       "\n",
       "| age | workclass | fnlwgt | education | educational.num | marital.status | occupation | relationship | race | gender | capital.gain | capital.loss | hours.per.week | native.country | income |\n",
       "|---|---|---|---|---|---|---|---|---|---|---|---|---|---|---|\n",
       "| 25                 | Private            | 226802             | 11th               |  7                 | Never-married      | Machine-op-inspct  | Own-child          | Black              | Male               |    0               | 0                  | 40                 | United-States      | <=50K              |\n",
       "| 38                 | Private            |  89814             | HS-grad            |  9                 | Married-civ-spouse | Farming-fishing    | Husband            | White              | Male               |    0               | 0                  | 50                 | United-States      | <=50K              |\n",
       "| 28                 | Local-gov          | 336951             | Assoc-acdm         | 12                 | Married-civ-spouse | Protective-serv    | Husband            | White              | Male               |    0               | 0                  | 40                 | United-States      | >50K               |\n",
       "| 44                 | Private            | 160323             | Some-college       | 10                 | Married-civ-spouse | Machine-op-inspct  | Husband            | Black              | Male               | 7688               | 0                  | 40                 | United-States      | >50K               |\n",
       "| 18                 | ?                  | 103497             | Some-college       | 10                 | Never-married      | ?                  | Own-child          | White              | Female             |    0               | 0                  | 30                 | United-States      | <=50K              |\n",
       "| 34                 | Private            | 198693             | 10th               |  6                 | Never-married      | Other-service      | Not-in-family      | White              | Male               |    0               | 0                  | 30                 | United-States      | <=50K              |\n",
       "\n"
      ],
      "text/plain": [
       "  age workclass fnlwgt education    educational.num marital.status    \n",
       "1 25  Private   226802 11th          7              Never-married     \n",
       "2 38  Private    89814 HS-grad       9              Married-civ-spouse\n",
       "3 28  Local-gov 336951 Assoc-acdm   12              Married-civ-spouse\n",
       "4 44  Private   160323 Some-college 10              Married-civ-spouse\n",
       "5 18  ?         103497 Some-college 10              Never-married     \n",
       "6 34  Private   198693 10th          6              Never-married     \n",
       "  occupation        relationship  race  gender capital.gain capital.loss\n",
       "1 Machine-op-inspct Own-child     Black Male      0         0           \n",
       "2 Farming-fishing   Husband       White Male      0         0           \n",
       "3 Protective-serv   Husband       White Male      0         0           \n",
       "4 Machine-op-inspct Husband       Black Male   7688         0           \n",
       "5 ?                 Own-child     White Female    0         0           \n",
       "6 Other-service     Not-in-family White Male      0         0           \n",
       "  hours.per.week native.country income\n",
       "1 40             United-States  <=50K \n",
       "2 50             United-States  <=50K \n",
       "3 40             United-States  >50K  \n",
       "4 40             United-States  >50K  \n",
       "5 30             United-States  <=50K \n",
       "6 30             United-States  <=50K "
      ]
     },
     "metadata": {},
     "output_type": "display_data"
    }
   ],
   "source": [
    "head(adult)"
   ]
  },
  {
   "cell_type": "markdown",
   "metadata": {},
   "source": [
    "### Data Exploration/Transformation"
   ]
  },
  {
   "cell_type": "code",
   "execution_count": 3,
   "metadata": {},
   "outputs": [],
   "source": [
    "# convert ? to NA values\n",
    "adult[adult == \"?\"] <- NA\n",
    "# remove NA values\n",
    "adult1 <- adult[complete.cases(adult),]\n",
    "\n",
    "# remove education, fnlwgt, capital.gain, and capital.loss\n",
    "adult2 <- subset(adult1, select = -c(education, fnlwgt, capital.gain, capital.loss))\n",
    "\n",
    "#convert target variable to 1 if >50K and 0 if <=50K\n",
    "adult2[\"income\"][adult2[\"income\"] == \">50K\"] <- 1\n",
    "adult2[\"income\"][adult2[\"income\"] == \"<=50K\"] <- 0\n",
    "adult2$income <- as.numeric(adult2$income)"
   ]
  },
  {
   "cell_type": "code",
   "execution_count": 4,
   "metadata": {},
   "outputs": [
    {
     "data": {
      "text/html": [
       "<table>\n",
       "<thead><tr><th></th><th scope=col>age</th><th scope=col>workclass</th><th scope=col>educational.num</th><th scope=col>marital.status</th><th scope=col>occupation</th><th scope=col>relationship</th><th scope=col>race</th><th scope=col>gender</th><th scope=col>hours.per.week</th><th scope=col>native.country</th><th scope=col>income</th></tr></thead>\n",
       "<tbody>\n",
       "\t<tr><th scope=row>1</th><td>25                </td><td>Private           </td><td> 7                </td><td>Never-married     </td><td>Machine-op-inspct </td><td>Own-child         </td><td>Black             </td><td>Male              </td><td>40                </td><td>United-States     </td><td>0                 </td></tr>\n",
       "\t<tr><th scope=row>2</th><td>38                </td><td>Private           </td><td> 9                </td><td>Married-civ-spouse</td><td>Farming-fishing   </td><td>Husband           </td><td>White             </td><td>Male              </td><td>50                </td><td>United-States     </td><td>0                 </td></tr>\n",
       "\t<tr><th scope=row>3</th><td>28                </td><td>Local-gov         </td><td>12                </td><td>Married-civ-spouse</td><td>Protective-serv   </td><td>Husband           </td><td>White             </td><td>Male              </td><td>40                </td><td>United-States     </td><td>1                 </td></tr>\n",
       "\t<tr><th scope=row>4</th><td>44                </td><td>Private           </td><td>10                </td><td>Married-civ-spouse</td><td>Machine-op-inspct </td><td>Husband           </td><td>Black             </td><td>Male              </td><td>40                </td><td>United-States     </td><td>1                 </td></tr>\n",
       "\t<tr><th scope=row>6</th><td>34                </td><td>Private           </td><td> 6                </td><td>Never-married     </td><td>Other-service     </td><td>Not-in-family     </td><td>White             </td><td>Male              </td><td>30                </td><td>United-States     </td><td>0                 </td></tr>\n",
       "\t<tr><th scope=row>8</th><td>63                </td><td>Self-emp-not-inc  </td><td>15                </td><td>Married-civ-spouse</td><td>Prof-specialty    </td><td>Husband           </td><td>White             </td><td>Male              </td><td>32                </td><td>United-States     </td><td>1                 </td></tr>\n",
       "</tbody>\n",
       "</table>\n"
      ],
      "text/latex": [
       "\\begin{tabular}{r|lllllllllll}\n",
       "  & age & workclass & educational.num & marital.status & occupation & relationship & race & gender & hours.per.week & native.country & income\\\\\n",
       "\\hline\n",
       "\t1 & 25                 & Private            &  7                 & Never-married      & Machine-op-inspct  & Own-child          & Black              & Male               & 40                 & United-States      & 0                 \\\\\n",
       "\t2 & 38                 & Private            &  9                 & Married-civ-spouse & Farming-fishing    & Husband            & White              & Male               & 50                 & United-States      & 0                 \\\\\n",
       "\t3 & 28                 & Local-gov          & 12                 & Married-civ-spouse & Protective-serv    & Husband            & White              & Male               & 40                 & United-States      & 1                 \\\\\n",
       "\t4 & 44                 & Private            & 10                 & Married-civ-spouse & Machine-op-inspct  & Husband            & Black              & Male               & 40                 & United-States      & 1                 \\\\\n",
       "\t6 & 34                 & Private            &  6                 & Never-married      & Other-service      & Not-in-family      & White              & Male               & 30                 & United-States      & 0                 \\\\\n",
       "\t8 & 63                 & Self-emp-not-inc   & 15                 & Married-civ-spouse & Prof-specialty     & Husband            & White              & Male               & 32                 & United-States      & 1                 \\\\\n",
       "\\end{tabular}\n"
      ],
      "text/markdown": [
       "\n",
       "| <!--/--> | age | workclass | educational.num | marital.status | occupation | relationship | race | gender | hours.per.week | native.country | income |\n",
       "|---|---|---|---|---|---|---|---|---|---|---|---|\n",
       "| 1 | 25                 | Private            |  7                 | Never-married      | Machine-op-inspct  | Own-child          | Black              | Male               | 40                 | United-States      | 0                  |\n",
       "| 2 | 38                 | Private            |  9                 | Married-civ-spouse | Farming-fishing    | Husband            | White              | Male               | 50                 | United-States      | 0                  |\n",
       "| 3 | 28                 | Local-gov          | 12                 | Married-civ-spouse | Protective-serv    | Husband            | White              | Male               | 40                 | United-States      | 1                  |\n",
       "| 4 | 44                 | Private            | 10                 | Married-civ-spouse | Machine-op-inspct  | Husband            | Black              | Male               | 40                 | United-States      | 1                  |\n",
       "| 6 | 34                 | Private            |  6                 | Never-married      | Other-service      | Not-in-family      | White              | Male               | 30                 | United-States      | 0                  |\n",
       "| 8 | 63                 | Self-emp-not-inc   | 15                 | Married-civ-spouse | Prof-specialty     | Husband            | White              | Male               | 32                 | United-States      | 1                  |\n",
       "\n"
      ],
      "text/plain": [
       "  age workclass        educational.num marital.status     occupation       \n",
       "1 25  Private           7              Never-married      Machine-op-inspct\n",
       "2 38  Private           9              Married-civ-spouse Farming-fishing  \n",
       "3 28  Local-gov        12              Married-civ-spouse Protective-serv  \n",
       "4 44  Private          10              Married-civ-spouse Machine-op-inspct\n",
       "6 34  Private           6              Never-married      Other-service    \n",
       "8 63  Self-emp-not-inc 15              Married-civ-spouse Prof-specialty   \n",
       "  relationship  race  gender hours.per.week native.country income\n",
       "1 Own-child     Black Male   40             United-States  0     \n",
       "2 Husband       White Male   50             United-States  0     \n",
       "3 Husband       White Male   40             United-States  1     \n",
       "4 Husband       Black Male   40             United-States  1     \n",
       "6 Not-in-family White Male   30             United-States  0     \n",
       "8 Husband       White Male   32             United-States  1     "
      ]
     },
     "metadata": {},
     "output_type": "display_data"
    }
   ],
   "source": [
    "head(adult2)"
   ]
  },
  {
   "cell_type": "code",
   "execution_count": 5,
   "metadata": {},
   "outputs": [],
   "source": [
    "# Ordinal encoding of categorical variables\n",
    "\n",
    "encode_ordinal <- function(x, order = unique(x)) {\n",
    "  x <- as.numeric(factor(x, levels = order, exclude = NULL))\n",
    "  x\n",
    "}\n",
    "\n",
    "adult2[[\"workclass\"]] <- encode_ordinal(adult2[[\"workclass\"]])\n",
    "adult2[[\"marital.status\"]] <- encode_ordinal(adult2[[\"marital.status\"]])\n",
    "adult2[[\"occupation\"]] <- encode_ordinal(adult2[[\"occupation\"]])\n",
    "adult2[[\"relationship\"]] <- encode_ordinal(adult2[[\"relationship\"]])\n",
    "adult2[[\"race\"]] <- encode_ordinal(adult2[[\"race\"]])\n",
    "adult2[[\"gender\"]] <- encode_ordinal(adult2[[\"gender\"]])\n",
    "adult2[[\"native.country\"]] <- encode_ordinal(adult2[[\"native.country\"]])"
   ]
  },
  {
   "cell_type": "code",
   "execution_count": 6,
   "metadata": {},
   "outputs": [
    {
     "data": {
      "text/html": [
       "<table>\n",
       "<thead><tr><th></th><th scope=col>age</th><th scope=col>workclass</th><th scope=col>educational.num</th><th scope=col>marital.status</th><th scope=col>occupation</th><th scope=col>relationship</th><th scope=col>race</th><th scope=col>gender</th><th scope=col>hours.per.week</th><th scope=col>native.country</th><th scope=col>income</th></tr></thead>\n",
       "<tbody>\n",
       "\t<tr><th scope=row>1</th><td>25</td><td>1 </td><td> 7</td><td>1 </td><td>1 </td><td>1 </td><td>1 </td><td>1 </td><td>40</td><td>1 </td><td>0 </td></tr>\n",
       "\t<tr><th scope=row>2</th><td>38</td><td>1 </td><td> 9</td><td>2 </td><td>2 </td><td>2 </td><td>2 </td><td>1 </td><td>50</td><td>1 </td><td>0 </td></tr>\n",
       "\t<tr><th scope=row>3</th><td>28</td><td>2 </td><td>12</td><td>2 </td><td>3 </td><td>2 </td><td>2 </td><td>1 </td><td>40</td><td>1 </td><td>1 </td></tr>\n",
       "\t<tr><th scope=row>4</th><td>44</td><td>1 </td><td>10</td><td>2 </td><td>1 </td><td>2 </td><td>1 </td><td>1 </td><td>40</td><td>1 </td><td>1 </td></tr>\n",
       "\t<tr><th scope=row>6</th><td>34</td><td>1 </td><td> 6</td><td>1 </td><td>4 </td><td>3 </td><td>2 </td><td>1 </td><td>30</td><td>1 </td><td>0 </td></tr>\n",
       "\t<tr><th scope=row>8</th><td>63</td><td>3 </td><td>15</td><td>2 </td><td>5 </td><td>2 </td><td>2 </td><td>1 </td><td>32</td><td>1 </td><td>1 </td></tr>\n",
       "</tbody>\n",
       "</table>\n"
      ],
      "text/latex": [
       "\\begin{tabular}{r|lllllllllll}\n",
       "  & age & workclass & educational.num & marital.status & occupation & relationship & race & gender & hours.per.week & native.country & income\\\\\n",
       "\\hline\n",
       "\t1 & 25 & 1  &  7 & 1  & 1  & 1  & 1  & 1  & 40 & 1  & 0 \\\\\n",
       "\t2 & 38 & 1  &  9 & 2  & 2  & 2  & 2  & 1  & 50 & 1  & 0 \\\\\n",
       "\t3 & 28 & 2  & 12 & 2  & 3  & 2  & 2  & 1  & 40 & 1  & 1 \\\\\n",
       "\t4 & 44 & 1  & 10 & 2  & 1  & 2  & 1  & 1  & 40 & 1  & 1 \\\\\n",
       "\t6 & 34 & 1  &  6 & 1  & 4  & 3  & 2  & 1  & 30 & 1  & 0 \\\\\n",
       "\t8 & 63 & 3  & 15 & 2  & 5  & 2  & 2  & 1  & 32 & 1  & 1 \\\\\n",
       "\\end{tabular}\n"
      ],
      "text/markdown": [
       "\n",
       "| <!--/--> | age | workclass | educational.num | marital.status | occupation | relationship | race | gender | hours.per.week | native.country | income |\n",
       "|---|---|---|---|---|---|---|---|---|---|---|---|\n",
       "| 1 | 25 | 1  |  7 | 1  | 1  | 1  | 1  | 1  | 40 | 1  | 0  |\n",
       "| 2 | 38 | 1  |  9 | 2  | 2  | 2  | 2  | 1  | 50 | 1  | 0  |\n",
       "| 3 | 28 | 2  | 12 | 2  | 3  | 2  | 2  | 1  | 40 | 1  | 1  |\n",
       "| 4 | 44 | 1  | 10 | 2  | 1  | 2  | 1  | 1  | 40 | 1  | 1  |\n",
       "| 6 | 34 | 1  |  6 | 1  | 4  | 3  | 2  | 1  | 30 | 1  | 0  |\n",
       "| 8 | 63 | 3  | 15 | 2  | 5  | 2  | 2  | 1  | 32 | 1  | 1  |\n",
       "\n"
      ],
      "text/plain": [
       "  age workclass educational.num marital.status occupation relationship race\n",
       "1 25  1          7              1              1          1            1   \n",
       "2 38  1          9              2              2          2            2   \n",
       "3 28  2         12              2              3          2            2   \n",
       "4 44  1         10              2              1          2            1   \n",
       "6 34  1          6              1              4          3            2   \n",
       "8 63  3         15              2              5          2            2   \n",
       "  gender hours.per.week native.country income\n",
       "1 1      40             1              0     \n",
       "2 1      50             1              0     \n",
       "3 1      40             1              1     \n",
       "4 1      40             1              1     \n",
       "6 1      30             1              0     \n",
       "8 1      32             1              1     "
      ]
     },
     "metadata": {},
     "output_type": "display_data"
    }
   ],
   "source": [
    "head(adult2)"
   ]
  },
  {
   "cell_type": "markdown",
   "metadata": {},
   "source": [
    "### Build Model"
   ]
  },
  {
   "cell_type": "code",
   "execution_count": 7,
   "metadata": {},
   "outputs": [],
   "source": [
    "# split dataset\n",
    "split <- sample.split(adult2, SplitRatio = 0.8)\n",
    "   \n",
    "train <- subset(adult2, split == \"TRUE\")\n",
    "test <- subset(adult2, split == \"FALSE\")"
   ]
  },
  {
   "cell_type": "code",
   "execution_count": 8,
   "metadata": {
    "scrolled": true
   },
   "outputs": [
    {
     "data": {
      "text/plain": [
       "\n",
       "Call:\n",
       "glm(formula = income ~ ., family = \"binomial\", data = train)\n",
       "\n",
       "Deviance Residuals: \n",
       "    Min       1Q   Median       3Q      Max  \n",
       "-2.9403  -0.6772  -0.4168  -0.0859   3.1947  \n",
       "\n",
       "Coefficients:\n",
       "                 Estimate Std. Error z value Pr(>|z|)    \n",
       "(Intercept)     -7.018710   0.133954 -52.396  < 2e-16 ***\n",
       "age              0.047956   0.001261  38.041  < 2e-16 ***\n",
       "workclass        0.027577   0.010295   2.679 0.007390 ** \n",
       "educational.num  0.350998   0.006627  52.962  < 2e-16 ***\n",
       "marital.status  -0.145218   0.012977 -11.191  < 2e-16 ***\n",
       "occupation       0.033493   0.005030   6.659 2.75e-11 ***\n",
       "relationship     0.064315   0.016953   3.794 0.000148 ***\n",
       "race             0.051912   0.024151   2.149 0.031597 *  \n",
       "gender          -1.145525   0.042854 -26.731  < 2e-16 ***\n",
       "hours.per.week   0.034344   0.001298  26.462  < 2e-16 ***\n",
       "native.country  -0.005018   0.003139  -1.599 0.109911    \n",
       "---\n",
       "Signif. codes:  0 '***' 0.001 '**' 0.01 '*' 0.05 '.' 0.1 ' ' 1\n",
       "\n",
       "(Dispersion parameter for binomial family taken to be 1)\n",
       "\n",
       "    Null deviance: 36861  on 32888  degrees of freedom\n",
       "Residual deviance: 28731  on 32878  degrees of freedom\n",
       "AIC: 28753\n",
       "\n",
       "Number of Fisher Scoring iterations: 5\n"
      ]
     },
     "metadata": {},
     "output_type": "display_data"
    }
   ],
   "source": [
    "# fit the model\n",
    "l_mod <- glm(income ~ ., data = train, family = \"binomial\")\n",
    "\n",
    "summary(l_mod)"
   ]
  },
  {
   "cell_type": "code",
   "execution_count": 9,
   "metadata": {
    "scrolled": true
   },
   "outputs": [
    {
     "data": {
      "text/html": [
       "<dl class=dl-horizontal>\n",
       "\t<dt>(Intercept)</dt>\n",
       "\t\t<dd>-7.01870963085234</dd>\n",
       "\t<dt>age</dt>\n",
       "\t\t<dd>0.0479562010345121</dd>\n",
       "\t<dt>workclass</dt>\n",
       "\t\t<dd>0.0275766555938961</dd>\n",
       "\t<dt>educational.num</dt>\n",
       "\t\t<dd>0.350997538080738</dd>\n",
       "\t<dt>marital.status</dt>\n",
       "\t\t<dd>-0.145218085216737</dd>\n",
       "\t<dt>occupation</dt>\n",
       "\t\t<dd>0.0334929741628935</dd>\n",
       "\t<dt>relationship</dt>\n",
       "\t\t<dd>0.064315159141858</dd>\n",
       "\t<dt>race</dt>\n",
       "\t\t<dd>0.0519121163316077</dd>\n",
       "\t<dt>gender</dt>\n",
       "\t\t<dd>-1.14552491633127</dd>\n",
       "\t<dt>hours.per.week</dt>\n",
       "\t\t<dd>0.0343437079863098</dd>\n",
       "\t<dt>native.country</dt>\n",
       "\t\t<dd>-0.00501812895663385</dd>\n",
       "</dl>\n"
      ],
      "text/latex": [
       "\\begin{description*}\n",
       "\\item[(Intercept)] -7.01870963085234\n",
       "\\item[age] 0.0479562010345121\n",
       "\\item[workclass] 0.0275766555938961\n",
       "\\item[educational.num] 0.350997538080738\n",
       "\\item[marital.status] -0.145218085216737\n",
       "\\item[occupation] 0.0334929741628935\n",
       "\\item[relationship] 0.064315159141858\n",
       "\\item[race] 0.0519121163316077\n",
       "\\item[gender] -1.14552491633127\n",
       "\\item[hours.per.week] 0.0343437079863098\n",
       "\\item[native.country] -0.00501812895663385\n",
       "\\end{description*}\n"
      ],
      "text/markdown": [
       "(Intercept)\n",
       ":   -7.01870963085234age\n",
       ":   0.0479562010345121workclass\n",
       ":   0.0275766555938961educational.num\n",
       ":   0.350997538080738marital.status\n",
       ":   -0.145218085216737occupation\n",
       ":   0.0334929741628935relationship\n",
       ":   0.064315159141858race\n",
       ":   0.0519121163316077gender\n",
       ":   -1.14552491633127hours.per.week\n",
       ":   0.0343437079863098native.country\n",
       ":   -0.00501812895663385\n",
       "\n"
      ],
      "text/plain": [
       "    (Intercept)             age       workclass educational.num  marital.status \n",
       "   -7.018709631     0.047956201     0.027576656     0.350997538    -0.145218085 \n",
       "     occupation    relationship            race          gender  hours.per.week \n",
       "    0.033492974     0.064315159     0.051912116    -1.145524916     0.034343708 \n",
       " native.country \n",
       "   -0.005018129 "
      ]
     },
     "metadata": {},
     "output_type": "display_data"
    }
   ],
   "source": [
    "coef(l_mod)"
   ]
  },
  {
   "cell_type": "markdown",
   "metadata": {},
   "source": [
    "Therefore our fitted model is $\\hat{\\pi} = \\hat{P}(y = 1|x) = \\frac{1}{1 + e^{-z}}$, where $z = -7.02 + 0.05*age + 0.03*workclass + 0.35*educational.num - 0.15*marital.status + 0.03*occupation + 0.06*relationship + 0.05*race - 1.15*gender + 0.03*hours.per.week - 0.01*native.country$"
   ]
  },
  {
   "cell_type": "markdown",
   "metadata": {},
   "source": [
    "### Predict On Test Data"
   ]
  },
  {
   "cell_type": "code",
   "execution_count": 10,
   "metadata": {},
   "outputs": [],
   "source": [
    "predict <- predict(l_mod, test, type = \"response\")"
   ]
  },
  {
   "cell_type": "markdown",
   "metadata": {},
   "source": [
    "### Evaluate Accuracy"
   ]
  },
  {
   "cell_type": "code",
   "execution_count": 11,
   "metadata": {},
   "outputs": [
    {
     "data": {
      "text/plain": [
       "   predict\n",
       "       0    1\n",
       "  0 8692  597\n",
       "  1 1875 1169"
      ]
     },
     "metadata": {},
     "output_type": "display_data"
    }
   ],
   "source": [
    "# set threshold at s = 0.5 for yhat\n",
    "predict <- ifelse(predict > 0.5, 1, 0)\n",
    "\n",
    "# create confusion matrix\n",
    "tbl = table(test$income, predict)\n",
    "tbl"
   ]
  },
  {
   "cell_type": "code",
   "execution_count": 12,
   "metadata": {},
   "outputs": [
    {
     "data": {
      "text/html": [
       "0.799562150328387"
      ],
      "text/latex": [
       "0.799562150328387"
      ],
      "text/markdown": [
       "0.799562150328387"
      ],
      "text/plain": [
       "[1] 0.7995622"
      ]
     },
     "metadata": {},
     "output_type": "display_data"
    }
   ],
   "source": [
    "# accuracy\n",
    "acc = (tbl[1,1] + tbl[2,2]) / sum(tbl)\n",
    "acc"
   ]
  },
  {
   "cell_type": "markdown",
   "metadata": {},
   "source": [
    "Since our NB model had an accuracy of $\\approx 0.83$, the NB model is about $3\\%$ better. However, either model is good as their accuracies are equal to or greater than $80\\%$."
   ]
  },
  {
   "cell_type": "markdown",
   "metadata": {},
   "source": [
    "### ROC curve"
   ]
  },
  {
   "cell_type": "code",
   "execution_count": 13,
   "metadata": {},
   "outputs": [
    {
     "name": "stderr",
     "output_type": "stream",
     "text": [
      "Setting levels: control = FALSE, case = TRUE\n",
      "Setting direction: controls < cases\n"
     ]
    },
    {
     "data": {
      "image/png": "[encoded data removed]",
      "text/plain": [
       "Plot with title \"AUC =  0.66\""
      ]
     },
     "metadata": {},
     "output_type": "display_data"
    }
   ],
   "source": [
    "# build curve\n",
    "y = (test$income == 1)\n",
    "\n",
    "ROCcrv = roc(response = y, predictor = predict)\n",
    "AUC = auc(ROCcrv)\n",
    "\n",
    "#plot\n",
    "plot(x = ROCcrv$specificities, y = ROCcrv$sensitivities, \n",
    "     main = paste(\"AUC = \", round(AUC,2)), xlab = \"Specificity\",\n",
    "    ylab = \"Sensitivity\", xlim = c(1,0), type = \"l\", col = \"blue\")\n",
    "abline(a = 1, b = -1, lty = \"dashed\")"
   ]
  },
  {
   "cell_type": "markdown",
   "metadata": {},
   "source": [
    "### Ridge Regularization"
   ]
  },
  {
   "cell_type": "code",
   "execution_count": 14,
   "metadata": {},
   "outputs": [
    {
     "data": {
      "image/png": "[encoded data removed]",
      "text/plain": [
       "plot without title"
      ]
     },
     "metadata": {},
     "output_type": "display_data"
    }
   ],
   "source": [
    "y = adult2$income\n",
    "x = as.matrix(adult2[ , names(adult2) != \"income\"])\n",
    "\n",
    "cvfit = cv.glmnet(x, y, family = \"binomial\", type.measure = \"deviance\",\n",
    "                 nfolds = 10, alpha = 0)\n",
    "\n",
    "plot(cvfit)"
   ]
  },
  {
   "cell_type": "markdown",
   "metadata": {},
   "source": [
    "### Lasso Regularization"
   ]
  },
  {
   "cell_type": "code",
   "execution_count": 16,
   "metadata": {
    "scrolled": true
   },
   "outputs": [
    {
     "data": {
      "image/png": "[encoded data removed]",
      "text/plain": [
       "plot without title"
      ]
     },
     "metadata": {},
     "output_type": "display_data"
    }
   ],
   "source": [
    "cvfit = cv.glmnet(x, y, family = \"binomial\", type.measure = \"deviance\",\n",
    "                 nfolds = 10, alpha = 1)\n",
    "\n",
    "plot(cvfit)"
   ]
  },
  {
   "cell_type": "markdown",
   "metadata": {},
   "source": [
    "## Conclusion/Future Work"
   ]
  },
  {
   "cell_type": "markdown",
   "metadata": {},
   "source": [
    "Both the NB model and logistic regression model proved to be capable of classifying adult income given theses specific predictors.  Another comparison could be done using a $k$NN model.\n",
    "\n",
    "Additionally, I would like to know if the income variable could be broken down into smaller categories and even an exact numeric variable to try to use regression techniques to predict income."
   ]
  }
 ],
 "metadata": {
  "kernelspec": {
   "display_name": "R",
   "language": "R",
   "name": "ir"
  },
  "language_info": {
   "codemirror_mode": "r",
   "file_extension": ".r",
   "mimetype": "text/x-r-source",
   "name": "R",
   "pygments_lexer": "r",
   "version": "3.6.1"
  }
 },
 "nbformat": 4,
 "nbformat_minor": 4
}
